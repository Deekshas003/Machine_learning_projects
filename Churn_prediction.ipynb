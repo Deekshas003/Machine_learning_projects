{
 "cells": [
  {
   "cell_type": "code",
   "execution_count": 54,
   "id": "d20fddbd-eaa7-4d69-a9c6-fc36b75df4ff",
   "metadata": {},
   "outputs": [],
   "source": [
    "import pandas as pd\n",
    "import numpy as np\n",
    "import matplotlib.pyplot as plt\n",
    "import seaborn as sns\n",
    "from sklearn.model_selection import train_test_split\n",
    "from sklearn.preprocessing import StandardScaler\n",
    "from sklearn.linear_model import LogisticRegression\n",
    "from sklearn.metrics import accuracy_score, precision_score, recall_score, f1_score, confusion_matrix\n",
    "from sklearn.preprocessing import LabelEncoder, StandardScaler\n",
    "from sklearn.impute import SimpleImputer\n",
    "from sklearn.metrics import confusion_matrix"
   ]
  },
  {
   "cell_type": "code",
   "execution_count": 3,
   "id": "429a9fa0-e78a-4db5-b5a3-a83618a4c0b4",
   "metadata": {},
   "outputs": [],
   "source": [
    "data = pd.read_excel(r\"C:\\Users\\deeks\\Downloads\\telecom_churn.xlsx\")"
   ]
  },
  {
   "cell_type": "code",
   "execution_count": 4,
   "id": "bb3f9683-42ca-4c97-9f10-f58bf197de83",
   "metadata": {},
   "outputs": [
    {
     "data": {
      "text/html": [
       "<div>\n",
       "<style scoped>\n",
       "    .dataframe tbody tr th:only-of-type {\n",
       "        vertical-align: middle;\n",
       "    }\n",
       "\n",
       "    .dataframe tbody tr th {\n",
       "        vertical-align: top;\n",
       "    }\n",
       "\n",
       "    .dataframe thead th {\n",
       "        text-align: right;\n",
       "    }\n",
       "</style>\n",
       "<table border=\"1\" class=\"dataframe\">\n",
       "  <thead>\n",
       "    <tr style=\"text-align: right;\">\n",
       "      <th></th>\n",
       "      <th>customer_id</th>\n",
       "      <th>telecom_partner</th>\n",
       "      <th>gender</th>\n",
       "      <th>age</th>\n",
       "      <th>state</th>\n",
       "      <th>city</th>\n",
       "      <th>pincode</th>\n",
       "      <th>date_of_registration</th>\n",
       "      <th>num_dependents</th>\n",
       "      <th>estimated_salary</th>\n",
       "      <th>calls_made</th>\n",
       "      <th>sms_sent</th>\n",
       "      <th>data_used</th>\n",
       "      <th>churn</th>\n",
       "    </tr>\n",
       "  </thead>\n",
       "  <tbody>\n",
       "    <tr>\n",
       "      <th>0</th>\n",
       "      <td>1</td>\n",
       "      <td>Reliance Jio</td>\n",
       "      <td>F</td>\n",
       "      <td>25</td>\n",
       "      <td>Karnataka</td>\n",
       "      <td>Kolkata</td>\n",
       "      <td>755597</td>\n",
       "      <td>2020-01-01</td>\n",
       "      <td>4</td>\n",
       "      <td>124962</td>\n",
       "      <td>44</td>\n",
       "      <td>45</td>\n",
       "      <td>-361</td>\n",
       "      <td>0</td>\n",
       "    </tr>\n",
       "    <tr>\n",
       "      <th>1</th>\n",
       "      <td>2</td>\n",
       "      <td>Reliance Jio</td>\n",
       "      <td>F</td>\n",
       "      <td>55</td>\n",
       "      <td>Mizoram</td>\n",
       "      <td>Mumbai</td>\n",
       "      <td>125926</td>\n",
       "      <td>2020-01-01</td>\n",
       "      <td>2</td>\n",
       "      <td>130556</td>\n",
       "      <td>62</td>\n",
       "      <td>39</td>\n",
       "      <td>5973</td>\n",
       "      <td>0</td>\n",
       "    </tr>\n",
       "    <tr>\n",
       "      <th>2</th>\n",
       "      <td>3</td>\n",
       "      <td>Vodafone</td>\n",
       "      <td>F</td>\n",
       "      <td>57</td>\n",
       "      <td>Arunachal Pradesh</td>\n",
       "      <td>Delhi</td>\n",
       "      <td>423976</td>\n",
       "      <td>2020-01-01</td>\n",
       "      <td>0</td>\n",
       "      <td>148828</td>\n",
       "      <td>49</td>\n",
       "      <td>24</td>\n",
       "      <td>193</td>\n",
       "      <td>1</td>\n",
       "    </tr>\n",
       "    <tr>\n",
       "      <th>3</th>\n",
       "      <td>4</td>\n",
       "      <td>BSNL</td>\n",
       "      <td>M</td>\n",
       "      <td>46</td>\n",
       "      <td>Tamil Nadu</td>\n",
       "      <td>Kolkata</td>\n",
       "      <td>522841</td>\n",
       "      <td>2020-01-01</td>\n",
       "      <td>1</td>\n",
       "      <td>38722</td>\n",
       "      <td>80</td>\n",
       "      <td>25</td>\n",
       "      <td>9377</td>\n",
       "      <td>1</td>\n",
       "    </tr>\n",
       "    <tr>\n",
       "      <th>4</th>\n",
       "      <td>5</td>\n",
       "      <td>BSNL</td>\n",
       "      <td>F</td>\n",
       "      <td>26</td>\n",
       "      <td>Tripura</td>\n",
       "      <td>Delhi</td>\n",
       "      <td>740247</td>\n",
       "      <td>2020-01-01</td>\n",
       "      <td>2</td>\n",
       "      <td>55098</td>\n",
       "      <td>78</td>\n",
       "      <td>15</td>\n",
       "      <td>1393</td>\n",
       "      <td>0</td>\n",
       "    </tr>\n",
       "    <tr>\n",
       "      <th>...</th>\n",
       "      <td>...</td>\n",
       "      <td>...</td>\n",
       "      <td>...</td>\n",
       "      <td>...</td>\n",
       "      <td>...</td>\n",
       "      <td>...</td>\n",
       "      <td>...</td>\n",
       "      <td>...</td>\n",
       "      <td>...</td>\n",
       "      <td>...</td>\n",
       "      <td>...</td>\n",
       "      <td>...</td>\n",
       "      <td>...</td>\n",
       "      <td>...</td>\n",
       "    </tr>\n",
       "    <tr>\n",
       "      <th>243548</th>\n",
       "      <td>243549</td>\n",
       "      <td>Airtel</td>\n",
       "      <td>F</td>\n",
       "      <td>28</td>\n",
       "      <td>Mizoram</td>\n",
       "      <td>Kolkata</td>\n",
       "      <td>110295</td>\n",
       "      <td>2023-05-03</td>\n",
       "      <td>3</td>\n",
       "      <td>130580</td>\n",
       "      <td>28</td>\n",
       "      <td>9</td>\n",
       "      <td>4102</td>\n",
       "      <td>0</td>\n",
       "    </tr>\n",
       "    <tr>\n",
       "      <th>243549</th>\n",
       "      <td>243550</td>\n",
       "      <td>Reliance Jio</td>\n",
       "      <td>F</td>\n",
       "      <td>52</td>\n",
       "      <td>Assam</td>\n",
       "      <td>Kolkata</td>\n",
       "      <td>713481</td>\n",
       "      <td>2023-05-03</td>\n",
       "      <td>0</td>\n",
       "      <td>82393</td>\n",
       "      <td>80</td>\n",
       "      <td>45</td>\n",
       "      <td>7521</td>\n",
       "      <td>0</td>\n",
       "    </tr>\n",
       "    <tr>\n",
       "      <th>243550</th>\n",
       "      <td>243551</td>\n",
       "      <td>Reliance Jio</td>\n",
       "      <td>M</td>\n",
       "      <td>59</td>\n",
       "      <td>Tripura</td>\n",
       "      <td>Kolkata</td>\n",
       "      <td>520218</td>\n",
       "      <td>2023-05-03</td>\n",
       "      <td>4</td>\n",
       "      <td>51298</td>\n",
       "      <td>26</td>\n",
       "      <td>4</td>\n",
       "      <td>6547</td>\n",
       "      <td>0</td>\n",
       "    </tr>\n",
       "    <tr>\n",
       "      <th>243551</th>\n",
       "      <td>243552</td>\n",
       "      <td>BSNL</td>\n",
       "      <td>M</td>\n",
       "      <td>49</td>\n",
       "      <td>Madhya Pradesh</td>\n",
       "      <td>Kolkata</td>\n",
       "      <td>387744</td>\n",
       "      <td>2023-05-03</td>\n",
       "      <td>2</td>\n",
       "      <td>83981</td>\n",
       "      <td>80</td>\n",
       "      <td>15</td>\n",
       "      <td>1125</td>\n",
       "      <td>0</td>\n",
       "    </tr>\n",
       "    <tr>\n",
       "      <th>243552</th>\n",
       "      <td>243553</td>\n",
       "      <td>BSNL</td>\n",
       "      <td>F</td>\n",
       "      <td>37</td>\n",
       "      <td>Telangana</td>\n",
       "      <td>Hyderabad</td>\n",
       "      <td>139086</td>\n",
       "      <td>2023-05-04</td>\n",
       "      <td>0</td>\n",
       "      <td>144297</td>\n",
       "      <td>61</td>\n",
       "      <td>7</td>\n",
       "      <td>3384</td>\n",
       "      <td>0</td>\n",
       "    </tr>\n",
       "  </tbody>\n",
       "</table>\n",
       "<p>243553 rows × 14 columns</p>\n",
       "</div>"
      ],
      "text/plain": [
       "        customer_id telecom_partner gender  age              state       city  \\\n",
       "0                 1    Reliance Jio      F   25          Karnataka    Kolkata   \n",
       "1                 2    Reliance Jio      F   55            Mizoram     Mumbai   \n",
       "2                 3        Vodafone      F   57  Arunachal Pradesh      Delhi   \n",
       "3                 4            BSNL      M   46         Tamil Nadu    Kolkata   \n",
       "4                 5            BSNL      F   26            Tripura      Delhi   \n",
       "...             ...             ...    ...  ...                ...        ...   \n",
       "243548       243549          Airtel      F   28            Mizoram    Kolkata   \n",
       "243549       243550    Reliance Jio      F   52              Assam    Kolkata   \n",
       "243550       243551    Reliance Jio      M   59            Tripura    Kolkata   \n",
       "243551       243552            BSNL      M   49     Madhya Pradesh    Kolkata   \n",
       "243552       243553            BSNL      F   37          Telangana  Hyderabad   \n",
       "\n",
       "        pincode date_of_registration  num_dependents  estimated_salary  \\\n",
       "0        755597           2020-01-01               4            124962   \n",
       "1        125926           2020-01-01               2            130556   \n",
       "2        423976           2020-01-01               0            148828   \n",
       "3        522841           2020-01-01               1             38722   \n",
       "4        740247           2020-01-01               2             55098   \n",
       "...         ...                  ...             ...               ...   \n",
       "243548   110295           2023-05-03               3            130580   \n",
       "243549   713481           2023-05-03               0             82393   \n",
       "243550   520218           2023-05-03               4             51298   \n",
       "243551   387744           2023-05-03               2             83981   \n",
       "243552   139086           2023-05-04               0            144297   \n",
       "\n",
       "        calls_made  sms_sent  data_used  churn  \n",
       "0               44        45       -361      0  \n",
       "1               62        39       5973      0  \n",
       "2               49        24        193      1  \n",
       "3               80        25       9377      1  \n",
       "4               78        15       1393      0  \n",
       "...            ...       ...        ...    ...  \n",
       "243548          28         9       4102      0  \n",
       "243549          80        45       7521      0  \n",
       "243550          26         4       6547      0  \n",
       "243551          80        15       1125      0  \n",
       "243552          61         7       3384      0  \n",
       "\n",
       "[243553 rows x 14 columns]"
      ]
     },
     "execution_count": 4,
     "metadata": {},
     "output_type": "execute_result"
    }
   ],
   "source": [
    "data"
   ]
  },
  {
   "cell_type": "code",
   "execution_count": 13,
   "id": "836ae6d1-6a8b-4b5b-bc71-15320665d194",
   "metadata": {},
   "outputs": [
    {
     "name": "stderr",
     "output_type": "stream",
     "text": [
      "C:\\Users\\deeks\\AppData\\Local\\Temp\\ipykernel_13684\\1470588880.py:2: FutureWarning: DataFrame.fillna with 'method' is deprecated and will raise in a future version. Use obj.ffill() or obj.bfill() instead.\n",
      "  data.fillna(method='ffill', inplace=True)  # Forward fill missing values\n"
     ]
    }
   ],
   "source": [
    "\n",
    "# Handle missing values if any\n",
    "data.fillna(method='ffill', inplace=True)  # Forward fill missing values"
   ]
  },
  {
   "cell_type": "code",
   "execution_count": 14,
   "id": "99d23286-23fb-4add-bb5d-6643510deae7",
   "metadata": {},
   "outputs": [],
   "source": [
    "# Encode categorical variables\n",
    "label_encoders = {}\n",
    "categorical_columns = ['telecom_partner', 'gender', 'state', 'city']\n",
    "for column in categorical_columns:\n",
    "    label_encoders[column] = LabelEncoder()\n",
    "    data[column] = label_encoders[column].fit_transform(data[column])\n"
   ]
  },
  {
   "cell_type": "code",
   "execution_count": 15,
   "id": "d0b58dcd-b172-4981-a859-da556666a95c",
   "metadata": {},
   "outputs": [],
   "source": [
    "# Feature scaling\n",
    "scaler = StandardScaler()\n",
    "scaled_features = scaler.fit_transform(data.drop(columns=['customer_id', 'date_of_registration']))\n",
    "data_scaled = pd.DataFrame(scaled_features, columns=data.columns[2:])\n"
   ]
  },
  {
   "cell_type": "code",
   "execution_count": 16,
   "id": "8c24ef2d-e04b-445d-9a2e-34fddb0e684a",
   "metadata": {},
   "outputs": [],
   "source": [
    "# Split the data into training and testing sets\n",
    "X = data_scaled.drop(columns=['churn'])\n",
    "y = data['churn']\n",
    "X_train, X_test, y_train, y_test = train_test_split(X, y, test_size=0.2, random_state=42)"
   ]
  },
  {
   "cell_type": "code",
   "execution_count": 12,
   "id": "25e7fe96-2102-496e-904e-2c5ba913f2ee",
   "metadata": {},
   "outputs": [
    {
     "name": "stdout",
     "output_type": "stream",
     "text": [
      "   customer_id  telecom_partner  gender       age  state  city  pincode  \\\n",
      "0            1                2       0 -1.281782     10     4   755597   \n",
      "1            2                2       0  0.542593     16     5   125926   \n",
      "2            3                3       0  0.664218      1     2   423976   \n",
      "3            4                1       1 -0.004720     22     4   522841   \n",
      "4            5                1       0 -1.220969     24     2   740247   \n",
      "\n",
      "  date_of_registration  num_dependents  estimated_salary  calls_made  \\\n",
      "0           2020-01-01        1.415256          1.064837   -0.170117   \n",
      "1           2020-01-01        0.001767          1.213975    0.441016   \n",
      "2           2020-01-01       -1.411722          1.701113   -0.000358   \n",
      "3           2020-01-01       -0.704977         -1.234351    1.052149   \n",
      "4           2020-01-01        0.001767         -0.797761    0.984245   \n",
      "\n",
      "   sms_sent  data_used  \n",
      "0  1.429025     -361.0  \n",
      "1  1.021791     5973.0  \n",
      "2  0.003706      193.0  \n",
      "3  0.071578     9377.0  \n",
      "4 -0.607145     1393.0  \n",
      "0    0\n",
      "1    0\n",
      "2    1\n",
      "3    1\n",
      "4    0\n",
      "Name: churn, dtype: int64\n"
     ]
    }
   ],
   "source": [
    "\n"
   ]
  },
  {
   "cell_type": "code",
   "execution_count": 17,
   "id": "ec666877-571e-428d-b5b0-f49af5493b9b",
   "metadata": {},
   "outputs": [
    {
     "name": "stdout",
     "output_type": "stream",
     "text": [
      "Processed data:\n",
      "          gender       age     state      city   pincode  \\\n",
      "118890  1.341780  0.817578 -0.734469 -0.434607  1.465926   \n",
      "173694  0.447149 -1.223125  1.515592  1.423972 -0.291588   \n",
      "28678   0.447149  0.817578 -0.552032  0.804446 -0.291588   \n",
      "187320  0.447149  0.817578  1.211530 -1.301944 -1.463263   \n",
      "101172  0.447149 -1.223125  1.637217  0.928351  0.294250   \n",
      "\n",
      "        date_of_registration  num_dependents  estimated_salary  calls_made  \\\n",
      "118890              1.381617       -0.704977         -0.086676    0.305208   \n",
      "173694              0.840153        0.708512          0.436586   -0.373828   \n",
      "28678               1.452497        0.708512          0.313549    1.289811   \n",
      "187320             -1.524752        0.708512          1.594312    0.882389   \n",
      "101172             -0.191030        0.708512         -0.512256   -0.713346   \n",
      "\n",
      "        sms_sent  data_used  \n",
      "118890  0.410940  -1.021133  \n",
      "173694  0.207323   1.361929  \n",
      "28678  -0.675018   1.046159  \n",
      "187320  0.003706  -1.156754  \n",
      "101172 -0.946507  -0.651998  \n",
      "118890    1\n",
      "173694    0\n",
      "28678     0\n",
      "187320    0\n",
      "101172    0\n",
      "Name: churn, dtype: int64\n"
     ]
    }
   ],
   "source": [
    "# Display processed data\n",
    "print(\"Processed data:\")\n",
    "print(X_train.head())\n",
    "print(y_train.head())"
   ]
  },
  {
   "cell_type": "code",
   "execution_count": 34,
   "id": "c7a12d0c-1dd4-4961-905b-eaaf8c06a0ff",
   "metadata": {},
   "outputs": [],
   "source": [
    "# Assuming 'X' contains the features and 'y' contains the target variable\n",
    "X_train, X_test, y_train, y_test = train_test_split(X, y, test_size=0.2, random_state=42)\n"
   ]
  },
  {
   "cell_type": "code",
   "execution_count": 35,
   "id": "1b22fec6-10bd-425f-afd8-5c4a34e12081",
   "metadata": {},
   "outputs": [
    {
     "data": {
      "text/html": [
       "<style>#sk-container-id-6 {color: black;background-color: white;}#sk-container-id-6 pre{padding: 0;}#sk-container-id-6 div.sk-toggleable {background-color: white;}#sk-container-id-6 label.sk-toggleable__label {cursor: pointer;display: block;width: 100%;margin-bottom: 0;padding: 0.3em;box-sizing: border-box;text-align: center;}#sk-container-id-6 label.sk-toggleable__label-arrow:before {content: \"▸\";float: left;margin-right: 0.25em;color: #696969;}#sk-container-id-6 label.sk-toggleable__label-arrow:hover:before {color: black;}#sk-container-id-6 div.sk-estimator:hover label.sk-toggleable__label-arrow:before {color: black;}#sk-container-id-6 div.sk-toggleable__content {max-height: 0;max-width: 0;overflow: hidden;text-align: left;background-color: #f0f8ff;}#sk-container-id-6 div.sk-toggleable__content pre {margin: 0.2em;color: black;border-radius: 0.25em;background-color: #f0f8ff;}#sk-container-id-6 input.sk-toggleable__control:checked~div.sk-toggleable__content {max-height: 200px;max-width: 100%;overflow: auto;}#sk-container-id-6 input.sk-toggleable__control:checked~label.sk-toggleable__label-arrow:before {content: \"▾\";}#sk-container-id-6 div.sk-estimator input.sk-toggleable__control:checked~label.sk-toggleable__label {background-color: #d4ebff;}#sk-container-id-6 div.sk-label input.sk-toggleable__control:checked~label.sk-toggleable__label {background-color: #d4ebff;}#sk-container-id-6 input.sk-hidden--visually {border: 0;clip: rect(1px 1px 1px 1px);clip: rect(1px, 1px, 1px, 1px);height: 1px;margin: -1px;overflow: hidden;padding: 0;position: absolute;width: 1px;}#sk-container-id-6 div.sk-estimator {font-family: monospace;background-color: #f0f8ff;border: 1px dotted black;border-radius: 0.25em;box-sizing: border-box;margin-bottom: 0.5em;}#sk-container-id-6 div.sk-estimator:hover {background-color: #d4ebff;}#sk-container-id-6 div.sk-parallel-item::after {content: \"\";width: 100%;border-bottom: 1px solid gray;flex-grow: 1;}#sk-container-id-6 div.sk-label:hover label.sk-toggleable__label {background-color: #d4ebff;}#sk-container-id-6 div.sk-serial::before {content: \"\";position: absolute;border-left: 1px solid gray;box-sizing: border-box;top: 0;bottom: 0;left: 50%;z-index: 0;}#sk-container-id-6 div.sk-serial {display: flex;flex-direction: column;align-items: center;background-color: white;padding-right: 0.2em;padding-left: 0.2em;position: relative;}#sk-container-id-6 div.sk-item {position: relative;z-index: 1;}#sk-container-id-6 div.sk-parallel {display: flex;align-items: stretch;justify-content: center;background-color: white;position: relative;}#sk-container-id-6 div.sk-item::before, #sk-container-id-6 div.sk-parallel-item::before {content: \"\";position: absolute;border-left: 1px solid gray;box-sizing: border-box;top: 0;bottom: 0;left: 50%;z-index: -1;}#sk-container-id-6 div.sk-parallel-item {display: flex;flex-direction: column;z-index: 1;position: relative;background-color: white;}#sk-container-id-6 div.sk-parallel-item:first-child::after {align-self: flex-end;width: 50%;}#sk-container-id-6 div.sk-parallel-item:last-child::after {align-self: flex-start;width: 50%;}#sk-container-id-6 div.sk-parallel-item:only-child::after {width: 0;}#sk-container-id-6 div.sk-dashed-wrapped {border: 1px dashed gray;margin: 0 0.4em 0.5em 0.4em;box-sizing: border-box;padding-bottom: 0.4em;background-color: white;}#sk-container-id-6 div.sk-label label {font-family: monospace;font-weight: bold;display: inline-block;line-height: 1.2em;}#sk-container-id-6 div.sk-label-container {text-align: center;}#sk-container-id-6 div.sk-container {/* jupyter's `normalize.less` sets `[hidden] { display: none; }` but bootstrap.min.css set `[hidden] { display: none !important; }` so we also need the `!important` here to be able to override the default hidden behavior on the sphinx rendered scikit-learn.org. See: https://github.com/scikit-learn/scikit-learn/issues/21755 */display: inline-block !important;position: relative;}#sk-container-id-6 div.sk-text-repr-fallback {display: none;}</style><div id=\"sk-container-id-6\" class=\"sk-top-container\"><div class=\"sk-text-repr-fallback\"><pre>LogisticRegression(max_iter=1000)</pre><b>In a Jupyter environment, please rerun this cell to show the HTML representation or trust the notebook. <br />On GitHub, the HTML representation is unable to render, please try loading this page with nbviewer.org.</b></div><div class=\"sk-container\" hidden><div class=\"sk-item\"><div class=\"sk-estimator sk-toggleable\"><input class=\"sk-toggleable__control sk-hidden--visually\" id=\"sk-estimator-id-6\" type=\"checkbox\" checked><label for=\"sk-estimator-id-6\" class=\"sk-toggleable__label sk-toggleable__label-arrow\">LogisticRegression</label><div class=\"sk-toggleable__content\"><pre>LogisticRegression(max_iter=1000)</pre></div></div></div></div></div>"
      ],
      "text/plain": [
       "LogisticRegression(max_iter=1000)"
      ]
     },
     "execution_count": 35,
     "metadata": {},
     "output_type": "execute_result"
    }
   ],
   "source": [
    "\n",
    "# Initialize and train the logistic regression model\n",
    "logistic_regression = LogisticRegression(max_iter=1000)  # Increase max_iter if necessary\n",
    "logistic_regression.fit(X_train, y_train)\n"
   ]
  },
  {
   "cell_type": "code",
   "execution_count": 39,
   "id": "54a9a606-33ac-4078-942d-48806a43f871",
   "metadata": {},
   "outputs": [
    {
     "data": {
      "text/plain": [
       "array([0, 0, 0, ..., 0, 0, 0], dtype=int64)"
      ]
     },
     "execution_count": 39,
     "metadata": {},
     "output_type": "execute_result"
    }
   ],
   "source": [
    "# Make predictions on the test set\n",
    "y_pred = logistic_regression.predict(X_test)\n",
    "y_pred"
   ]
  },
  {
   "cell_type": "code",
   "execution_count": 42,
   "id": "b26a6d8b-b4f4-41ca-a345-c55e2a391761",
   "metadata": {},
   "outputs": [
    {
     "name": "stderr",
     "output_type": "stream",
     "text": [
      "C:\\Users\\deeks\\anaconda3\\Lib\\site-packages\\sklearn\\metrics\\_classification.py:1344: UndefinedMetricWarning: Precision is ill-defined and being set to 0.0 due to no predicted samples. Use `zero_division` parameter to control this behavior.\n",
      "  _warn_prf(average, modifier, msg_start, len(result))\n"
     ]
    }
   ],
   "source": [
    "# Calculate accuracy\n",
    "accuracy = accuracy_score(y_test, y_pred)\n",
    "\n",
    "precision = precision_score(y_test, y_pred)\n",
    "recall = recall_score(y_test, y_pred)\n",
    "f1 = f1_score(y_test, y_pred)\n"
   ]
  },
  {
   "cell_type": "code",
   "execution_count": 46,
   "id": "0ad4fa79-821e-464d-9ea5-56dd1cf0d866",
   "metadata": {},
   "outputs": [
    {
     "name": "stdout",
     "output_type": "stream",
     "text": [
      "Accuracy: 0.7991624068485558\n",
      "Precision: 0.0\n",
      "Recall: 0.0\n",
      "F1-score: 0.0\n"
     ]
    }
   ],
   "source": [
    "\n",
    "print(\"Accuracy:\", accuracy)\n",
    "print(\"Precision:\", precision)\n",
    "print(\"Recall:\", recall)\n",
    "print(\"F1-score:\", f1)\n"
   ]
  },
  {
   "cell_type": "code",
   "execution_count": 55,
   "id": "e803d11f-4080-473c-81e6-57c1927e29e3",
   "metadata": {},
   "outputs": [
    {
     "data": {
      "image/png": "[encoded data removed]",
      "text/plain": [
       "<Figure size 800x600 with 1 Axes>"
      ]
     },
     "metadata": {},
     "output_type": "display_data"
    }
   ],
   "source": [
    "# Calculate confusion matrix\n",
    "conf_matrix = confusion_matrix(y_test, y_pred)\n",
    "\n",
    "# Convert confusion matrix to DataFrame for easy visualization\n",
    "conf_df = pd.DataFrame(conf_matrix, index=['Actual 0', 'Actual 1'], columns=['Predicted 0', 'Predicted 1'])\n",
    "\n",
    "# Plot confusion matrix as a heatmap\n",
    "plt.figure(figsize=(8, 6))\n",
    "sns.heatmap(conf_df, annot=True, cmap='Blues', fmt='g', cbar=False)\n",
    "plt.xlabel('Predicted')\n",
    "plt.ylabel('Actual')\n",
    "plt.title('Confusion Matrix')\n",
    "plt.show()"
   ]
  },
  {
   "cell_type": "code",
   "execution_count": null,
   "id": "33554e43-19d9-49ac-98b5-f316bdd4f911",
   "metadata": {},
   "outputs": [],
   "source": []
  },
  {
   "cell_type": "code",
   "execution_count": null,
   "id": "72b6769e-d30b-4631-8a0f-2c94e0eba1ad",
   "metadata": {},
   "outputs": [],
   "source": []
  },
  {
   "cell_type": "code",
   "execution_count": null,
   "id": "c7d80ded-c768-42df-a80c-c1246d50a13f",
   "metadata": {},
   "outputs": [],
   "source": []
  },
  {
   "cell_type": "code",
   "execution_count": null,
   "id": "709d3e90-1262-441c-bee7-35263fda6456",
   "metadata": {},
   "outputs": [],
   "source": []
  }
 ],
 "metadata": {
  "kernelspec": {
   "display_name": "Python 3 (ipykernel)",
   "language": "python",
   "name": "python3"
  },
  "language_info": {
   "codemirror_mode": {
    "name": "ipython",
    "version": 3
   },
   "file_extension": ".py",
   "mimetype": "text/x-python",
   "name": "python",
   "nbconvert_exporter": "python",
   "pygments_lexer": "ipython3",
   "version": "3.12.4"
  }
 },
 "nbformat": 4,
 "nbformat_minor": 5
}
